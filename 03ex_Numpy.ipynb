{
 "cells": [
  {
   "cell_type": "markdown",
   "metadata": {},
   "source": [
    "### Numpy basics"
   ]
  },
  {
   "cell_type": "markdown",
   "metadata": {},
   "source": [
    "1\\. Find the row, column and overall means for the following matrix:\n",
    "\n",
    "```python\n",
    "m = np.arange(12).reshape((3,4))\n",
    "```"
   ]
  },
  {
   "cell_type": "code",
   "execution_count": 5,
   "metadata": {},
   "outputs": [
    {
     "name": "stdout",
     "output_type": "stream",
     "text": [
      "Matrix m :  \n",
      "[[ 0  1  2  3]\n",
      " [ 4  5  6  7]\n",
      " [ 8  9 10 11]] \n",
      "\n",
      "Overall mean :  5.5\n",
      "Row mean :  [1.5 5.5 9.5]\n",
      "Column mean :  [4. 5. 6. 7.]\n"
     ]
    }
   ],
   "source": [
    "import numpy as np\n",
    "m = np.arange(12).reshape((3,4))\n",
    "print \"Matrix m : \", \"\\n\", m, \"\\n\"\n",
    "print \"Overall mean : \", m.mean()\n",
    "print \"Row mean : \", m.mean(axis=1)\n",
    "print \"Column mean : \", m.mean(axis=0)\n"
   ]
  },
  {
   "cell_type": "markdown",
   "metadata": {},
   "source": [
    "2\\. Find the outer product of the following two vecotrs\n",
    "\n",
    "```python\n",
    "u = np.array([1,3,5,7])\n",
    "v = np.array([2,4,6,8])\n",
    "```\n",
    "\n",
    "Do this in the following ways:\n",
    "\n",
    "   * Using the function outer in numpy\n",
    "   * Using a nested for loop or list comprehension\n",
    "   * Using numpy broadcasting operatoins\n"
   ]
  },
  {
   "cell_type": "code",
   "execution_count": 54,
   "metadata": {},
   "outputs": [
    {
     "name": "stdout",
     "output_type": "stream",
     "text": [
      "Numpy:  \n",
      "  u x v = \n",
      "[[ 2  4  6  8]\n",
      " [ 6 12 18 24]\n",
      " [10 20 30 40]\n",
      " [14 28 42 56]]\n",
      "List comprehension: \n",
      " u x v = \n",
      "[[ 2  4  6  8]\n",
      " [ 6 12 18 24]\n",
      " [10 20 30 40]\n",
      " [14 28 42 56]]\n",
      " Broadcasting: \n",
      " u x v = \n",
      "[[ 2  4  6  8]\n",
      " [ 6 12 18 24]\n",
      " [10 20 30 40]\n",
      " [14 28 42 56]]\n"
     ]
    }
   ],
   "source": [
    "u = np.array([1,3,5,7])\n",
    "v = np.array([2,4,6,8])\n",
    "print \"Numpy:  \\n  u x v = \\n\",np.outer(u,v)\n",
    "p2 = np.array([u[i]*v[j] for i in range(u.shape[0]) for j in range(v.shape[0])]).reshape(u.shape[0],v.shape[0])\n",
    "print \"List comprehension: \\n u x v = \\n\",p2 \n",
    "p3 = u.reshape(4,1)*v\n",
    "print \" Broadcasting: \\n u x v = \\n\",p2 "
   ]
  },
  {
   "cell_type": "markdown",
   "metadata": {},
   "source": [
    "3\\. Create a 10 by 6 matrix of random uniform numbers. Set all rows with any entry less than 0.1 to be zero\n",
    "\n",
    "Hint: Use the following numpy functions - np.random.random, np.any as well as Boolean indexing and the axis argument."
   ]
  },
  {
   "cell_type": "code",
   "execution_count": 70,
   "metadata": {},
   "outputs": [
    {
     "name": "stdout",
     "output_type": "stream",
     "text": [
      "[[0.2 0.9 0.8 0.3 0.4 0.9]\n",
      " [0.6 0.1 0.2 0.1 0.7 0.7]\n",
      " [0.3 0.5 0.6 0.3 0.7 0.9]\n",
      " [0.8 0.7 0.4 0.3 0.3 0.2]\n",
      " [0.4 0.  0.6 0.1 0.7 0.1]\n",
      " [0.1 0.8 0.5 0.  0.6 0.7]\n",
      " [0.4 0.9 0.  0.7 0.5 0.8]\n",
      " [0.8 0.9 1.  0.7 0.  1. ]\n",
      " [0.4 0.6 0.6 0.8 0.1 0.7]\n",
      " [0.7 0.3 0.4 0.6 0.2 0. ]]\n"
     ]
    }
   ],
   "source": [
    "x0=np.random.random(60).reshape(10,6).round(1)\n",
    "x0[x0<0.1]=0\n",
    "print x0"
   ]
  },
  {
   "cell_type": "markdown",
   "metadata": {},
   "source": [
    "4\\. Use np.linspace to create an array of 100 numbers between 0 and 2π (includsive).\n",
    "\n",
    "  * Extract every 10th element using slice notation\n",
    "  * Reverse the array using slice notation\n",
    "  * Extract elements where the absolute difference between the sine and cosine functions evaluated at that element is less than 0.1\n",
    "  * Make a plot showing the sin and cos functions and indicate where they are close"
   ]
  },
  {
   "cell_type": "code",
   "execution_count": 68,
   "metadata": {},
   "outputs": [
    {
     "name": "stdout",
     "output_type": "stream",
     "text": [
      "[0.         0.06346652 0.12693304 0.19039955 0.25386607 0.31733259\n",
      " 0.38079911 0.44426563 0.50773215 0.57119866 0.63466518 0.6981317\n",
      " 0.76159822 0.82506474 0.88853126 0.95199777 1.01546429 1.07893081\n",
      " 1.14239733 1.20586385 1.26933037 1.33279688 1.3962634  1.45972992\n",
      " 1.52319644 1.58666296 1.65012947 1.71359599 1.77706251 1.84052903\n",
      " 1.90399555 1.96746207 2.03092858 2.0943951  2.15786162 2.22132814\n",
      " 2.28479466 2.34826118 2.41172769 2.47519421 2.53866073 2.60212725\n",
      " 2.66559377 2.72906028 2.7925268  2.85599332 2.91945984 2.98292636\n",
      " 3.04639288 3.10985939 3.17332591 3.23679243 3.30025895 3.36372547\n",
      " 3.42719199 3.4906585  3.55412502 3.61759154 3.68105806 3.74452458\n",
      " 3.8079911  3.87145761 3.93492413 3.99839065 4.06185717 4.12532369\n",
      " 4.1887902  4.25225672 4.31572324 4.37918976 4.44265628 4.5061228\n",
      " 4.56958931 4.63305583 4.69652235 4.75998887 4.82345539 4.88692191\n",
      " 4.95038842 5.01385494 5.07732146 5.14078798 5.2042545  5.26772102\n",
      " 5.33118753 5.39465405 5.45812057 5.52158709 5.58505361 5.64852012\n",
      " 5.71198664 5.77545316 5.83891968 5.9023862  5.96585272 6.02931923\n",
      " 6.09278575 6.15625227 6.21971879 6.28318531]\n",
      " \n",
      "10th elements array : \n",
      "[0.         0.57119866 1.14239733 1.71359599 2.28479466 2.85599332\n",
      " 3.42719199 3.99839065 4.56958931 5.14078798 5.71198664 6.28318531] \n",
      "\n",
      "Reverse array : \n",
      "[6.28318531 5.71198664 5.14078798 4.56958931 3.99839065 3.42719199\n",
      " 2.85599332 2.28479466 1.71359599 1.14239733 0.57119866 0.        ] \n",
      "\n",
      "Distance array : \n",
      "[0.76159822 0.82506474 3.87145761 3.93492413] \n",
      "\n"
     ]
    },
    {
     "data": {
      "text/plain": [
       "<matplotlib.legend.Legend at 0x7f328fec3fd0>"
      ]
     },
     "execution_count": 68,
     "metadata": {},
     "output_type": "execute_result"
    },
    {
     "data": {
      "image/png": "[encoded data removed]",
      "text/plain": [
       "<Figure size 432x288 with 1 Axes>"
      ]
     },
     "metadata": {},
     "output_type": "display_data"
    }
   ],
   "source": [
    "import matplotlib.pyplot as mp\n",
    "x0=np.linspace(0, 2*np.pi, 100)\n",
    "print x0 \n",
    "print \" \"\n",
    "x1=x0[::9]\n",
    "print \"10th elements array : \\n\" , x1, \"\\n\"\n",
    "x2=x1[::-1]\n",
    "print \"Reverse array : \\n\" , x2 , \"\\n\"\n",
    "x3=x0[np.abs(np.sin(x0)-np.cos(x0))<0.1]\n",
    "print \"Distance array : \\n\" , x3 , \"\\n\"\n",
    "%matplotlib inline \n",
    "\n",
    "mp.plot(x0, np.sin(x0))\n",
    "mp.plot(x0, np.cos(x0))\n",
    "\n",
    "x4=x0[(np.sign(np.sin(x0) - np.cos(x0) )) == 0]\n",
    "mp.scatter(x3,np.sin(x3),marker= \"*\",s=300)\n",
    "mp.legend([\"sin\", 'cos'])"
   ]
  },
  {
   "cell_type": "markdown",
   "metadata": {},
   "source": [
    "5\\. Create a matrix that shows the 10 by 10 multiplication table.\n",
    "\n",
    " * Find the trace of the matrix\n",
    " * Extract the anto-diagonal (this should be ```array([10, 18, 24, 28, 30, 30, 28, 24, 18, 10])```)\n",
    " * Extract the diagnoal offset by 1 upwards (this should be ```array([ 2,  6, 12, 20, 30, 42, 56, 72, 90])```)"
   ]
  },
  {
   "cell_type": "code",
   "execution_count": 7,
   "metadata": {},
   "outputs": [
    {
     "name": "stdout",
     "output_type": "stream",
     "text": [
      "Multiplication table : \n",
      "   [[  1   2   3   4   5   6   7   8   9  10]\n",
      " [  2   4   6   8  10  12  14  16  18  20]\n",
      " [  3   6   9  12  15  18  21  24  27  30]\n",
      " [  4   8  12  16  20  24  28  32  36  40]\n",
      " [  5  10  15  20  25  30  35  40  45  50]\n",
      " [  6  12  18  24  30  36  42  48  54  60]\n",
      " [  7  14  21  28  35  42  49  56  63  70]\n",
      " [  8  16  24  32  40  48  56  64  72  80]\n",
      " [  9  18  27  36  45  54  63  72  81  90]\n",
      " [ 10  20  30  40  50  60  70  80  90 100]]\n",
      "tr(m) :  385\n",
      "Anti-diagonal :  [10 18 24 28 30 30 28 24 18 10]\n",
      "Diagnoal offset by 1 upwards :  [ 2  6 12 20 30 42 56 72 90]\n"
     ]
    }
   ],
   "source": [
    "m = np.outer([i for i in range(1,11)],[i for i in range(1,11)])\n",
    "print \"Multiplication table : \\n  \", m\n",
    "print \"tr(m) : \", sum([ m[i][i] for i in range(len(m))])\n",
    "print \"Anti-diagonal : \" , np.diag(m[::-1])\n",
    "print \"Diagnoal offset by 1 upwards : \", np.diag(m,1)"
   ]
  },
  {
   "cell_type": "markdown",
   "metadata": {},
   "source": [
    "6\\. Use broadcasting to create a grid of distances\n",
    "\n",
    "Route 66 crosses the following cities in the US: Chicago, Springfield, Saint-Louis, Tulsa, Oklahoma City, Amarillo, Santa Fe, Albuquerque, Flagstaff, Los Angeles\n",
    "The corresponding positions in miles are: 0, 198, 303, 736, 871, 1175, 1475, 1544, 1913, 2448\n",
    "\n",
    "  * Construct a 2D grid of distances among each city along Route 66\n",
    "  * Convert that in km (those savages...)"
   ]
  },
  {
   "cell_type": "code",
   "execution_count": 62,
   "metadata": {},
   "outputs": [
    {
     "name": "stdout",
     "output_type": "stream",
     "text": [
      "Table distances in miles : \n",
      "  [[   0  198  303  736  871 1175 1475 1544 1913 2448]\n",
      " [ 198    0  105  538  673  977 1277 1346 1715 2250]\n",
      " [ 303  105    0  433  568  872 1172 1241 1610 2145]\n",
      " [ 736  538  433    0  135  439  739  808 1177 1712]\n",
      " [ 871  673  568  135    0  304  604  673 1042 1577]\n",
      " [1175  977  872  439  304    0  300  369  738 1273]\n",
      " [1475 1277 1172  739  604  300    0   69  438  973]\n",
      " [1544 1346 1241  808  673  369   69    0  369  904]\n",
      " [1913 1715 1610 1177 1042  738  438  369    0  535]\n",
      " [2448 2250 2145 1712 1577 1273  973  904  535    0]]\n",
      "Table distances in km: \n",
      "  [[   0.  319.  488. 1184. 1402. 1891. 2374. 2485. 3079. 3940.]\n",
      " [ 319.    0.  169.  866. 1083. 1572. 2055. 2166. 2760. 3621.]\n",
      " [ 488.  169.    0.  697.  914. 1403. 1886. 1997. 2591. 3452.]\n",
      " [1184.  866.  697.    0.  217.  707. 1189. 1300. 1894. 2755.]\n",
      " [1402. 1083.  914.  217.    0.  489.  972. 1083. 1677. 2538.]\n",
      " [1891. 1572. 1403.  707.  489.    0.  483.  594. 1188. 2049.]\n",
      " [2374. 2055. 1886. 1189.  972.  483.    0.  111.  705. 1566.]\n",
      " [2485. 2166. 1997. 1300. 1083.  594.  111.    0.  594. 1455.]\n",
      " [3079. 2760. 2591. 1894. 1677. 1188.  705.  594.    0.  861.]\n",
      " [3940. 3621. 3452. 2755. 2538. 2049. 1566. 1455.  861.    0.]]\n"
     ]
    }
   ],
   "source": [
    "pos=[0,198, 303, 736, 871, 1175, 1475, 1544, 1913, 2448]\n",
    "grid=np.array([abs(pos[i]-pos[j]) for i in range(len(pos)) for j in range(0,len(pos))]).reshape(10,10)\n",
    "print \"Table distances in miles : \\n \",grid\n",
    "grid2=grid*1.609344\n",
    "print \"Table distances in km: \\n \", grid2.round(0)"
   ]
  },
  {
   "cell_type": "markdown",
   "metadata": {},
   "source": [
    "7\\. Prime numbers sieve: compute the prime numbers in the 0-N (N=99 to start with) range with a sieve (mask).\n",
    "  * Constract a shape (100,) boolean array, the mask\n",
    "  * Identify the multiples of each number starting from 2 and set accordingly the corresponding mask element\n",
    "  * Apply the mask to obtain an array of ordered prime numbers\n",
    "  * Check the performances (timeit); how does it scale with N?\n",
    "  * Implement the optimization suggested in the [sieve of Eratosthenes](https://en.wikipedia.org/wiki/Sieve_of_Eratosthenes)"
   ]
  },
  {
   "cell_type": "code",
   "execution_count": 8,
   "metadata": {},
   "outputs": [
    {
     "name": "stdout",
     "output_type": "stream",
     "text": [
      " \n",
      "The Divisors of 4  are : \n",
      "2  \n",
      "The Divisors of 6  are : \n",
      "2 3  \n",
      "The Divisors of 8  are : \n",
      "2 4  \n",
      "The Divisors of 9  are : \n",
      "3  \n",
      "The Divisors of 10  are : \n",
      "2 5  \n",
      "The Divisors of 12  are : \n",
      "2 3 4 6  \n",
      "The Divisors of 14  are : \n",
      "2 7  \n",
      "The Divisors of 15  are : \n",
      "3 5  \n",
      "The Divisors of 16  are : \n",
      "2 4 8  \n",
      "The Divisors of 18  are : \n",
      "2 3 6 9  \n",
      "The Divisors of 20  are : \n",
      "2 4 5 10  \n",
      "The Divisors of 21  are : \n",
      "3 7  \n",
      "The Divisors of 22  are : \n",
      "2 11  \n",
      "The Divisors of 24  are : \n",
      "2 3 4 6 8 12  \n",
      "The Divisors of 25  are : \n",
      "5  \n",
      "The Divisors of 26  are : \n",
      "2 13  \n",
      "The Divisors of 27  are : \n",
      "3 9  \n",
      "The Divisors of 28  are : \n",
      "2 4 7 14  \n",
      "The Divisors of 30  are : \n",
      "2 3 5 6 10 15  \n",
      "The Divisors of 32  are : \n",
      "2 4 8 16  \n",
      "The Divisors of 33  are : \n",
      "3 11  \n",
      "The Divisors of 34  are : \n",
      "2 17  \n",
      "The Divisors of 35  are : \n",
      "5 7  \n",
      "The Divisors of 36  are : \n",
      "2 3 4 6 9 12 18  \n",
      "The Divisors of 38  are : \n",
      "2 19  \n",
      "The Divisors of 39  are : \n",
      "3 13  \n",
      "The Divisors of 40  are : \n",
      "2 4 5 8 10 20  \n",
      "The Divisors of 42  are : \n",
      "2 3 6 7 14 21  \n",
      "The Divisors of 44  are : \n",
      "2 4 11 22  \n",
      "The Divisors of 45  are : \n",
      "3 5 9 15  \n",
      "The Divisors of 46  are : \n",
      "2 23  \n",
      "The Divisors of 48  are : \n",
      "2 3 4 6 8 12 16 24  \n",
      "The Divisors of 49  are : \n",
      "7  \n",
      "The Divisors of 50  are : \n",
      "2 5 10 25  \n",
      "The Divisors of 51  are : \n",
      "3 17  \n",
      "The Divisors of 52  are : \n",
      "2 4 13 26  \n",
      "The Divisors of 54  are : \n",
      "2 3 6 9 18 27  \n",
      "The Divisors of 55  are : \n",
      "5 11  \n",
      "The Divisors of 56  are : \n",
      "2 4 7 8 14 28  \n",
      "The Divisors of 57  are : \n",
      "3 19  \n",
      "The Divisors of 58  are : \n",
      "2 29  \n",
      "The Divisors of 60  are : \n",
      "2 3 4 5 6 10 12 15 20 30  \n",
      "The Divisors of 62  are : \n",
      "2 31  \n",
      "The Divisors of 63  are : \n",
      "3 7 9 21  \n",
      "The Divisors of 64  are : \n",
      "2 4 8 16 32  \n",
      "The Divisors of 65  are : \n",
      "5 13  \n",
      "The Divisors of 66  are : \n",
      "2 3 6 11 22 33  \n",
      "The Divisors of 68  are : \n",
      "2 4 17 34  \n",
      "The Divisors of 69  are : \n",
      "3 23  \n",
      "The Divisors of 70  are : \n",
      "2 5 7 10 14 35  \n",
      "The Divisors of 72  are : \n",
      "2 3 4 6 8 9 12 18 24 36  \n",
      "The Divisors of 74  are : \n",
      "2 37  \n",
      "The Divisors of 75  are : \n",
      "3 5 15 25  \n",
      "The Divisors of 76  are : \n",
      "2 4 19 38  \n",
      "The Divisors of 77  are : \n",
      "7 11  \n",
      "The Divisors of 78  are : \n",
      "2 3 6 13 26 39  \n",
      "The Divisors of 80  are : \n",
      "2 4 5 8 10 16 20 40  \n",
      "The Divisors of 81  are : \n",
      "3 9 27  \n",
      "The Divisors of 82  are : \n",
      "2 41  \n",
      "The Divisors of 84  are : \n",
      "2 3 4 6 7 12 14 21 28 42  \n",
      "The Divisors of 85  are : \n",
      "5 17  \n",
      "The Divisors of 86  are : \n",
      "2 43  \n",
      "The Divisors of 87  are : \n",
      "3 29  \n",
      "The Divisors of 88  are : \n",
      "2 4 8 11 22 44  \n",
      "The Divisors of 90  are : \n",
      "2 3 5 6 9 10 15 18 30 45  \n",
      "The Divisors of 91  are : \n",
      "7 13  \n",
      "The Divisors of 92  are : \n",
      "2 4 23 46  \n",
      "The Divisors of 93  are : \n",
      "3 31  \n",
      "The Divisors of 94  are : \n",
      "2 47  \n",
      "The Divisors of 95  are : \n",
      "5 19  \n",
      "The Divisors of 96  are : \n",
      "2 3 4 6 8 12 16 24 32 48  \n",
      "The Divisors of 98  are : \n",
      "2 7 14 49  \n",
      "The Divisors of 99  are : \n",
      "3 9 11 33  \n",
      "The Divisors of 100  are : \n",
      "2 4 5 10 20 25 50  \n",
      " \n",
      " Primes :  [ 0  1  2  3  5  7 11 13 17 19 23 29 31 37 41 43 47 53 59 61 67 71 73 79\n",
      " 83 89 97]\n"
     ]
    }
   ],
   "source": [
    "import time\n",
    "import matplotlib.pyplot as pl\n",
    "def Prime_Mask_up_to_N(N):\n",
    "    list0 = np.arange(0,N+1)\n",
    "    mask = np.ones(N+1,dtype=bool)\n",
    "    for n in range(2,N+1):\n",
    "        found = False\n",
    "        for m in range(2,n):\n",
    "            if n%m == 0:\n",
    "                found = True\n",
    "                break\n",
    "        mask[n] = not found\n",
    "    return mask\n",
    "Prime_Mask_up_to_N(100)\n",
    "for n in range(len(Prime_Mask_up_to_N(100))):\n",
    "    if(Prime_Mask_up_to_N(100)[n].any() == False):\n",
    "        print \" \"\n",
    "        print \"The Divisors of\", n, \" are : \"\n",
    "        for i in range(2,n):\n",
    "            if (n % i==0) : \n",
    "                print i,\n",
    "primes = np.arange(0,101)[Prime_Mask_up_to_N(100)]\n",
    "print \" \\n \\n Primes : \", primes            "
   ]
  },
  {
   "cell_type": "code",
   "execution_count": 69,
   "metadata": {},
   "outputs": [
    {
     "data": {
      "text/plain": [
       "Text(0,0.5,'N [#]')"
      ]
     },
     "execution_count": 69,
     "metadata": {},
     "output_type": "execute_result"
    },
    {
     "data": {
      "image/png": "[encoded data removed]",
      "text/plain": [
       "<Figure size 432x288 with 1 Axes>"
      ]
     },
     "metadata": {},
     "output_type": "display_data"
    }
   ],
   "source": [
    "arrayN = np.array([])\n",
    "times = np.array([])\n",
    "counter=0\n",
    "for N in range(0,4000,250):\n",
    "    start_time=time.time()\n",
    "    Prime_Mask_up_to_N(N)\n",
    "    end_time=time.time()\n",
    "    exec_time=end_time-start_time\n",
    "    arrayN = np.append(arrayN,N)\n",
    "    times= np.append(times,exec_time)\n",
    "pl.plot(times,arrayN)\n",
    "pl.xlabel('time [s]')\n",
    "pl.ylabel('N [#]')"
   ]
  },
  {
   "cell_type": "code",
   "execution_count": 53,
   "metadata": {},
   "outputs": [
    {
     "name": "stdout",
     "output_type": "stream",
     "text": [
      "2 3 5 7 11 13 17 19 23 29 31 37 41 43 47 53 59 61 67 71 73 79 83 89 97 101 103 107 109 113 127 131 137 139 149 151 157 163 167 173 179 181 191 193 197 199 211 223 227 229 233 239 241 251 257 263 269 271 277 281 283 293 307 311 313 317 331 337 347 349 353 359 367 373 379 383 389 397 401 409 419 421 431 433 439 443 449 457 461 463 467 479 487 491 499 503 509 521 523 541 547 557 563 569 571 577 587 593 599 601 607 613 617 619 631 641 643 647 653 659 661 673 677 683 691 701 709 719 727 733 739 743 751 757 761 769 773 787 797 809 811 821 823 827 829 839 853 857 859 863 877 881 883 887 907 911 919 929 937 941 947 953 967 971 977 983 991 997\n"
     ]
    }
   ],
   "source": [
    "def Sieve_of_Eratosthenes(N):\n",
    "    sieve = []\n",
    "    for i in range(2, N+1):\n",
    "        if i not in sieve:\n",
    "            print i,\n",
    "            for j in range(i*i, N+1, i):\n",
    "                sieve.append(j)\n",
    "Sieve_of_Eratosthenes(1000)"
   ]
  },
  {
   "cell_type": "markdown",
   "metadata": {},
   "source": [
    "## 8\\. Diffusion using random walk\n",
    "\n",
    "Consider a simple random walk process: at each step in time, a walker jumps right or left (+1 or -1) with equal probability. The goal is to find the typical distance from the origin of a random walker after a given amount of time. \n",
    "To do that, let's simulate many walkers and create a 2D array with each walker as a raw and the actual time evolution as columns\n",
    "\n",
    "  * Take 1000 walkers and let them walk for 200 steps\n",
    "  * Use randint to create a 2D array of size walkers x steps with values -1 or 1\n",
    "  * Build the actual walking distances for each walker (i.e. another 2D array \"summing on each raw\")\n",
    "  * Take the square of that 2D array (elementwise)\n",
    "  * Compute the mean of the squared distances at each step (i.e. the mean along the columns)\n",
    "  * Plot the average distances (sqrt(distance\\*\\*2)) as a function of time (step)\n",
    "  \n",
    "Did you get what you expected?"
   ]
  },
  {
   "cell_type": "code",
   "execution_count": 65,
   "metadata": {},
   "outputs": [
    {
     "name": "stdout",
     "output_type": "stream",
     "text": [
      "[[1 0 1 ... 0 1 1]\n",
      " [0 1 1 ... 1 0 1]\n",
      " [1 1 1 ... 1 0 1]\n",
      " ...\n",
      " [1 1 1 ... 1 1 1]\n",
      " [1 0 0 ... 1 1 0]\n",
      " [1 0 1 ... 0 1 1]]\n",
      "[[  0.   1.   0. ... -20. -19. -18.]\n",
      " [  0.  -1.   0. ...  30.  29.  30.]\n",
      " [  0.   1.   2. ... -16. -17. -16.]\n",
      " ...\n",
      " [  0.   1.   2. ...  -4.  -3.  -2.]\n",
      " [  0.   1.   0. ...   6.   7.   6.]\n",
      " [  0.   1.   0. ...   0.   1.   2.]]\n",
      "[  0.    1.    1.9   2.7   3.7   4.6   5.5   6.5   7.6   8.7   9.7  10.8\n",
      "  11.9  12.5  13.7  14.9  15.7  16.2  17.2  18.3  19.3  20.7  21.8  23.2\n",
      "  24.1  25.2  26.   27.1  27.8  29.3  29.4  30.2  31.5  32.7  34.1  35.4\n",
      "  36.5  36.7  37.6  39.   40.1  41.9  42.5  43.1  43.8  45.5  46.5  48.4\n",
      "  49.5  51.1  52.4  52.5  53.3  54.5  55.1  56.   57.   58.5  59.5  60.2\n",
      "  60.7  61.4  62.7  63.6  64.6  65.3  66.6  68.1  68.8  69.   69.9  70.8\n",
      "  71.2  72.1  73.3  75.   75.8  77.3  78.   77.8  78.1  78.9  79.8  80.2\n",
      "  80.9  82.4  83.7  83.8  84.   85.1  86.3  88.3  89.   90.4  92.4  93.\n",
      "  93.7  94.2  94.8  96.1  96.5  98.2  99.9 101.5 102.4 103.7 104.1 106.3\n",
      " 107.2 108.8 109.  109.6 110.6 111.1 112.4 112.7 113.9 113.9 115.1 115.4\n",
      " 116.5 117.2 119.2 120.6 120.6 122.6 122.9 124.1 125.5 125.6 126.  128.4\n",
      " 129.  131.  131.8 133.1 135.8 137.1 137.  136.7 138.2 138.5 139.  139.9\n",
      " 140.3 141.  142.8 142.4 144.  145.  146.7 147.6 148.8 149.1 150.6 152.3\n",
      " 152.6 154.7 156.7 157.7 159.6 161.6 162.  163.7 163.5 164.8 167.  167.4\n",
      " 168.  169.2 170.1 171.  172.  171.5 173.  174.7 174.1 173.8 172.7 174.3\n",
      " 176.5 177.  178.8 179.8 182.4 183.  182.5 183.5 184.8 184.8 185.1 185.4\n",
      " 187.4 189.7 191.  192.1 193.  194.2 196.4 197.3 197.9]\n"
     ]
    },
    {
     "data": {
      "text/plain": [
       "Text(0,0.5,'distance[a.u.]')"
      ]
     },
     "execution_count": 65,
     "metadata": {},
     "output_type": "execute_result"
    },
    {
     "data": {
      "image/png": "[encoded data removed]",
      "text/plain": [
       "<Figure size 432x288 with 1 Axes>"
      ]
     },
     "metadata": {},
     "output_type": "display_data"
    }
   ],
   "source": [
    "walkers=1000\n",
    "steps=200\n",
    "a=np.random.randint(2,size=(walkers,steps))\n",
    "print a\n",
    "distances= np.zeros((walkers,steps+1))\n",
    "np.place(a, a == 0, -1)\n",
    "for i in range(a.shape[1]):\n",
    "    distances[:,i+1] = distances[:,i]+a[:,i]\n",
    "print distances\n",
    "square = distances**2\n",
    "meancols = square.mean(axis=0)   \n",
    "print meancols.round(1)\n",
    "time=np.arange(201)\n",
    "pl.plot(time, meancols)\n",
    "pl.xlabel('time [a.u]')\n",
    "pl.ylabel('distance[a.u.]')"
   ]
  },
  {
   "cell_type": "markdown",
   "metadata": {},
   "source": [
    "9\\. Analyze a data file \n",
    "  * Download the population of hares, lynxes and carrots at the beginning of the last century.\n",
    "    ```python\n",
    "    ! wget https://www.dropbox.com/s/3vigxoqayo389uc/populations.txt\n",
    "    ```\n",
    "\n",
    "  * Check the content by looking within the file\n",
    "  * Load the data (use an appropriate numpy method) into a 2D array\n",
    "  * Create arrays out of the columns, the arrays being (in order): *year*, *hares*, *lynxes*, *carrots* \n",
    "  * Plot the 3 populations over the years\n",
    "  * Compute the main statistical properties of the dataset (mean, std, correlations, etc.)\n",
    "  * Which species has the highest population each year?\n",
    "\n",
    "Do you feel there is some evident correlation here? [Studies](https://www.enr.gov.nt.ca/en/services/lynx/lynx-snowshoe-hare-cycle) tend to believe so."
   ]
  },
  {
   "cell_type": "code",
   "execution_count": 67,
   "metadata": {},
   "outputs": [
    {
     "name": "stdout",
     "output_type": "stream",
     "text": [
      "[[ 1900. 30000.  4000. 48300.]\n",
      " [ 1901. 47200.  6100. 48200.]\n",
      " [ 1902. 70200.  9800. 41500.]\n",
      " [ 1903. 77400. 35200. 38200.]\n",
      " [ 1904. 36300. 59400. 40600.]\n",
      " [ 1905. 20600. 41700. 39800.]\n",
      " [ 1906. 18100. 19000. 38600.]\n",
      " [ 1907. 21400. 13000. 42300.]\n",
      " [ 1908. 22000.  8300. 44500.]\n",
      " [ 1909. 25400.  9100. 42100.]\n",
      " [ 1910. 27100.  7400. 46000.]\n",
      " [ 1911. 40300.  8000. 46800.]\n",
      " [ 1912. 57000. 12300. 43800.]\n",
      " [ 1913. 76600. 19500. 40900.]\n",
      " [ 1914. 52300. 45700. 39400.]\n",
      " [ 1915. 19500. 51100. 39000.]\n",
      " [ 1916. 11200. 29700. 36700.]\n",
      " [ 1917.  7600. 15800. 41800.]\n",
      " [ 1918. 14600.  9700. 43300.]\n",
      " [ 1919. 16200. 10100. 41300.]\n",
      " [ 1920. 24700.  8600. 47300.]]\n",
      "Hare : \n",
      "mean 34081.0\n",
      "std 20897.9\n",
      "(Correlation Hare-Lynx, 2 tailed p-value) = (0.0718920607353557, 0.756805557976509)\n",
      "(Correlation Hare-Carrot, 2 tailed p-value) = (-0.01660377770987941, 0.943052738083616)\n",
      "Lynx :\n",
      "mean 20166.7\n",
      "std 16254.6\n",
      "(Correlation Lynx-Carrot, 2 tailed p-value) = (-0.6805771698401617, 0.0006851476055116453)\n",
      "Carrot : \n",
      "mean 42400.0\n",
      "std 3322.5\n",
      "Maximum population - 1900  :  carrot =  48300.0\n",
      "Maximum population - 1901  :  carrot =  48200.0\n",
      "Maximum population - 1902  :  hare =  70200.0\n",
      "Maximum population - 1903  :  hare =  77400.0\n",
      "Maximum population - 1904  :  lynx =  59400.0\n",
      "Maximum population - 1905  :  lynx =  41700.0\n",
      "Maximum population - 1906  :  carrot =  38600.0\n",
      "Maximum population - 1907  :  carrot =  42300.0\n",
      "Maximum population - 1908  :  carrot =  44500.0\n",
      "Maximum population - 1909  :  carrot =  42100.0\n",
      "Maximum population - 1910  :  carrot =  46000.0\n",
      "Maximum population - 1911  :  carrot =  46800.0\n",
      "Maximum population - 1912  :  hare =  57000.0\n",
      "Maximum population - 1913  :  hare =  76600.0\n",
      "Maximum population - 1914  :  hare =  52300.0\n",
      "Maximum population - 1915  :  lynx =  51100.0\n",
      "Maximum population - 1916  :  carrot =  36700.0\n",
      "Maximum population - 1917  :  carrot =  41800.0\n",
      "Maximum population - 1918  :  carrot =  43300.0\n",
      "Maximum population - 1919  :  carrot =  41300.0\n",
      "Maximum population - 1920  :  carrot =  47300.0\n"
     ]
    },
    {
     "data": {
      "image/png": "[encoded data removed]",
      "text/plain": [
       "<Figure size 432x288 with 1 Axes>"
      ]
     },
     "metadata": {},
     "output_type": "display_data"
    }
   ],
   "source": [
    "from scipy.stats.stats import pearsonr  \n",
    "population=np.loadtxt(\"populations.txt\")\n",
    "print population\n",
    "year= population[:,0].astype(int)\n",
    "hare= population[:,1]\n",
    "lynx= population[:,2]\n",
    "carrot= population[:,3]\n",
    "pl.plot(year, hare, 'ro', label='hare', linestyle='dashed')\n",
    "pl.plot(year, lynx, 'go', label='lynx', linestyle='dashed')\n",
    "pl.plot(year, carrot, 'bo', label='carrot', linestyle='dashed')\n",
    "pl.legend()\n",
    "pl.xlabel('year')\n",
    "pl.ylabel('popoluation')\n",
    "statpar=['mean', 'std']\n",
    "print 'Hare : '\n",
    "for function in statpar:\n",
    "    print function, getattr(np, function)(hare).round(1)\n",
    "print \"(Correlation Hare-Lynx, 2 tailed p-value) =\" , pearsonr(hare,lynx)\n",
    "print \"(Correlation Hare-Carrot, 2 tailed p-value) =\" , pearsonr(hare,carrot)\n",
    "print \"Lynx :\" \n",
    "for function in statpar:\n",
    "    print function, getattr(np, function)(lynx).round(1) \n",
    "print \"(Correlation Lynx-Carrot, 2 tailed p-value) =\" , pearsonr(lynx,carrot)   \n",
    "print \"Carrot : \"\n",
    "for function in statpar:\n",
    "    print function, getattr(np, function)(carrot).round(1)\n",
    "for i in range(len(year)):\n",
    "    if(max(hare[i],lynx[i],carrot[i]) == hare[i]):\n",
    "        print \"Maximum population -\", year[i] ,\" : \", \"hare = \", hare[i]\n",
    "    elif(max(hare[i],lynx[i],carrot[i]) == lynx[i]):\n",
    "        print \"Maximum population -\", year[i],\" : \", \"lynx = \", lynx[i]\n",
    "    else:\n",
    "        print \"Maximum population -\",year[i],\" : \", \"carrot = \",carrot[i]\n",
    "    \n"
   ]
  },
  {
   "cell_type": "code",
   "execution_count": null,
   "metadata": {},
   "outputs": [],
   "source": []
  }
 ],
 "metadata": {
  "kernelspec": {
   "display_name": "Python 2",
   "language": "python",
   "name": "python2"
  },
  "language_info": {
   "codemirror_mode": {
    "name": "ipython",
    "version": 2
   },
   "file_extension": ".py",
   "mimetype": "text/x-python",
   "name": "python",
   "nbconvert_exporter": "python",
   "pygments_lexer": "ipython2",
   "version": "2.7.15"
  }
 },
 "nbformat": 4,
 "nbformat_minor": 2
}
