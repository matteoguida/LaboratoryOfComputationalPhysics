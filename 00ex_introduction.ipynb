{
 "cells": [
  {
   "cell_type": "markdown",
   "metadata": {},
   "source": [
    "1. The MickeyMouse problem\n",
    "\n",
    "a) Write a program that prints the numbers from 1 to 100. But for multiples of three print Mickey instead of the number and for the multiples of five print Mouse. For numbers which are multiples of both three and five print MickeyMouse\n",
    "\n",
    "b) Put the result in a tuple and substitute Mickey with Donald and Mouse with Duck"
   ]
  },
  {
   "cell_type": "code",
   "execution_count": 9,
   "metadata": {},
   "outputs": [
    {
     "name": "stdout",
     "output_type": "stream",
     "text": [
      "1 2 Mickey 3 4 Mouse Mickey 6 7 8 Mickey 9 Mouse 11 Mickey 12 13 14 MickeyMouse Mickey Mouse 16 17 Mickey 18 19 Mouse Mickey 21 22 23 Mickey 24 Mouse 26 Mickey 27 28 29 MickeyMouse Mickey Mouse 31 32 Mickey 33 34 Mouse Mickey 36 37 38 Mickey 39 Mouse 41 Mickey 42 43 44 MickeyMouse Mickey Mouse 46 47 Mickey 48 49 Mouse Mickey 51 52 53 Mickey 54 Mouse 56 Mickey 57 58 59 MickeyMouse Mickey Mouse 61 62 Mickey 63 64 Mouse Mickey 66 67 68 Mickey 69 Mouse 71 Mickey 72 73 74 MickeyMouse Mickey Mouse 76 77 Mickey 78 79 Mouse Mickey 81 82 83 Mickey 84 Mouse 86 Mickey 87 88 89 MickeyMouse Mickey Mouse 91 92 Mickey 93 94 Mouse Mickey 96 97 98 Mickey 99 Mouse  \n",
      " \n",
      "(1, 2, 'Mickey', 3, 4, 'Mouse', 'Mickey', 6, 7, 8, 'Mickey', 9, 'Mouse', 11, 'Mickey', 12, 13, 14, 'MickeyMouse', 'Mickey', 'Mouse', 16, 17, 'Mickey', 18, 19, 'Mouse', 'Mickey', 21, 22, 23, 'Mickey', 24, 'Mouse', 26, 'Mickey', 27, 28, 29, 'MickeyMouse', 'Mickey', 'Mouse', 31, 32, 'Mickey', 33, 34, 'Mouse', 'Mickey', 36, 37, 38, 'Mickey', 39, 'Mouse', 41, 'Mickey', 42, 43, 44, 'MickeyMouse', 'Mickey', 'Mouse', 46, 47, 'Mickey', 48, 49, 'Mouse', 'Mickey', 51, 52, 53, 'Mickey', 54, 'Mouse', 56, 'Mickey', 57, 58, 59, 'MickeyMouse', 'Mickey', 'Mouse', 61, 62, 'Mickey', 63, 64, 'Mouse', 'Mickey', 66, 67, 68, 'Mickey', 69, 'Mouse', 71, 'Mickey', 72, 73, 74, 'MickeyMouse', 'Mickey', 'Mouse', 76, 77, 'Mickey', 78, 79, 'Mouse', 'Mickey', 81, 82, 83, 'Mickey', 84, 'Mouse', 86, 'Mickey', 87, 88, 89, 'MickeyMouse', 'Mickey', 'Mouse', 91, 92, 'Mickey', 93, 94, 'Mouse', 'Mickey', 96, 97, 98, 'Mickey', 99, 'Mouse')\n",
      "(1, 2, 'Donald', 3, 4, 'Duck', 'Donald', 6, 7, 8, 'Donald', 9, 'Duck', 11, 'Donald', 12, 13, 14, 'DonaldDuck', 'Donald', 'Duck', 16, 17, 'Donald', 18, 19, 'Duck', 'Donald', 21, 22, 23, 'Donald', 24, 'Duck', 26, 'Donald', 27, 28, 29, 'DonaldDuck', 'Donald', 'Duck', 31, 32, 'Donald', 33, 34, 'Duck', 'Donald', 36, 37, 38, 'Donald', 39, 'Duck', 41, 'Donald', 42, 43, 44, 'DonaldDuck', 'Donald', 'Duck', 46, 47, 'Donald', 48, 49, 'Duck', 'Donald', 51, 52, 53, 'Donald', 54, 'Duck', 56, 'Donald', 57, 58, 59, 'DonaldDuck', 'Donald', 'Duck', 61, 62, 'Donald', 63, 64, 'Duck', 'Donald', 66, 67, 68, 'Donald', 69, 'Duck', 71, 'Donald', 72, 73, 74, 'DonaldDuck', 'Donald', 'Duck', 76, 77, 'Donald', 78, 79, 'Duck', 'Donald', 81, 82, 83, 'Donald', 84, 'Duck', 86, 'Donald', 87, 88, 89, 'DonaldDuck', 'Donald', 'Duck', 91, 92, 'Donald', 93, 94, 'Duck', 'Donald', 96, 97, 98, 'Donald', 99, 'Duck')\n"
     ]
    }
   ],
   "source": [
    "def replace(tup, x0, y0, x1, y1, x2, y2):\n",
    "    tup_list = list(tup)\n",
    "    for element in tup_list:\n",
    "        if element == x0:\n",
    "            tup_list[tup_list.index(element)] = y0\n",
    "        if element == x1:\n",
    "            tup_list[tup_list.index(element)] = y1\n",
    "        if element == x2:\n",
    "            tup_list[tup_list.index(element)] = y2\n",
    "    new_tuple = tuple(tup_list)\n",
    "    print new_tuple\n",
    "\n",
    "tuple0=()\n",
    "for i in range(1,101):\n",
    "    if i%3==0 and i%5==0:\n",
    "        print 'MickeyMouse', \n",
    "        tuple0 += 'MickeyMouse',  \n",
    "    if i%3==0: \n",
    "        print 'Mickey',\n",
    "        tuple0 += 'Mickey',\n",
    "    if i%5==0:\n",
    "        print 'Mouse',\n",
    "        tuple0 += 'Mouse',\n",
    "    else: \n",
    "        print i,\n",
    "        tuple0 += i,\n",
    "print \" \"        \n",
    "print \" \"\n",
    "print(tuple0)\n",
    "replace(tuple0, 'Mickey', 'Donald','Mouse','Duck','MickeyMouse','DonaldDuck')\n"
   ]
  },
  {
   "cell_type": "code",
   "execution_count": null,
   "metadata": {},
   "outputs": [],
   "source": []
  },
  {
   "cell_type": "markdown",
   "metadata": {},
   "source": [
    "2\\. The swap function\n",
    "\n",
    "Write a function that swap the values of two input variables x and y (whatever the type). Try to do that also without a temporary variable"
   ]
  },
  {
   "cell_type": "code",
   "execution_count": 10,
   "metadata": {},
   "outputs": [
    {
     "data": {
      "text/plain": [
       "(2, 1)"
      ]
     },
     "execution_count": 10,
     "metadata": {},
     "output_type": "execute_result"
    }
   ],
   "source": [
    "def swap1(x0,x1):\n",
    "    temp=x0\n",
    "    x0=x1\n",
    "    x1=temp\n",
    "    return x0,x1\n",
    "swap1(1,2)\n"
   ]
  },
  {
   "cell_type": "code",
   "execution_count": 11,
   "metadata": {},
   "outputs": [
    {
     "data": {
      "text/plain": [
       "(2, 1)"
      ]
     },
     "execution_count": 11,
     "metadata": {},
     "output_type": "execute_result"
    }
   ],
   "source": [
    "def swap2(x0,x1):\n",
    "    x0,x1=x1,x0\n",
    "    return x0,x1\n",
    "swap2(1,2)"
   ]
  },
  {
   "cell_type": "markdown",
   "metadata": {},
   "source": [
    "3\\. Computing the distance\n",
    "\n",
    "Write a function that calculates and returns the euclidean distance between two points *u* and *v*, where *u* and *v* are both 2-tuples *(x,y)*. For example, if *u=(3,0)* and *v=(0,4)*, the function should return 5"
   ]
  },
  {
   "cell_type": "code",
   "execution_count": 13,
   "metadata": {},
   "outputs": [
    {
     "data": {
      "text/plain": [
       "5.0"
      ]
     },
     "execution_count": 13,
     "metadata": {},
     "output_type": "execute_result"
    }
   ],
   "source": [
    "import math \n",
    "\n",
    "def distance(u,v):\n",
    "    distance = math.sqrt((u[0]-v[0])**2+(u[1]-v[1])**2)\n",
    "    return distance\n",
    "\n",
    "u=(3,0)\n",
    "v=(0,4)\n",
    "distance(u,v)"
   ]
  },
  {
   "cell_type": "markdown",
   "metadata": {},
   "source": [
    "4\\. Counting letters\n",
    "\n",
    "Write a program to calculate the number of times each character occurs in a given string *s*. Ignore differneces in capitalization"
   ]
  },
  {
   "cell_type": "code",
   "execution_count": 15,
   "metadata": {},
   "outputs": [
    {
     "name": "stdout",
     "output_type": "stream",
     "text": [
      "Counter({' ': 41, 'e': 22, 't': 19, 'r': 17, 'i': 14, 'o': 13, 'm': 12, 'f': 10, 'n': 10, 'h': 9, 's': 9, 'u': 9, 'p': 8, 'a': 7, 'l': 6, 'b': 5, 'c': 3, 'd': 3, '.': 2, '1': 2, '0': 2, 'k': 2, 'w': 2, 'v': 2, 'y': 2, 'g': 1})\n"
     ]
    }
   ],
   "source": [
    "import collections\n",
    "s=\"Write a program that prints the numbers from 1 to 100. \\\n",
    "But for multiples of three print Mickey instead of the number and for the multiples of five print Mouse. \\\n",
    "For numbers which are multiples of both three and five print MickeyMouse\"\n",
    "results = collections.Counter(map(str.lower,s))\n",
    "print(results)"
   ]
  },
  {
   "cell_type": "markdown",
   "metadata": {},
   "source": [
    "5\\. Isolating the unique\n",
    "\n",
    "Write a function that determines and count the unique numbers in the list *l*"
   ]
  },
  {
   "cell_type": "code",
   "execution_count": 14,
   "metadata": {},
   "outputs": [
    {
     "name": "stdout",
     "output_type": "stream",
     "text": [
      "('Number of unique elements : ', 37, ' Elements : ', [58, 74, 96, 64, 10, 24, 19, 33, 86, 99, 18, 47, 88, 55, 54, 8, 79, 81, 57, 37, 1, 9, 95, 90, 98, 39, 16, 82, 92, 41, 30, 94, 5, 72, 87, 75, 53])\n"
     ]
    }
   ],
   "source": [
    "def unique(l): \n",
    "    list0=[]\n",
    "    for i in l:\n",
    "        if l.count(i)==1:\n",
    "            list0.append(i)\n",
    "    print(\"Number of unique elements : \",len(list0) ,\" Elements : \",list0)\n",
    "    \n",
    "l = [36, 45, 58, 3, 74, 96, 64, 45, 31, 10, 24, 19, 33, 86, 99, 18, 63, 70, 85,\n",
    " 85, 63, 47, 56, 42, 70, 84, 88, 55, 20, 54, 8, 56, 51, 79, 81, 57, 37, 91,\n",
    " 1, 84, 84, 36, 66, 9, 89, 50, 42, 91, 50, 95, 90, 98, 39, 16, 82, 31, 92, 41,\n",
    " 45, 30, 66, 70, 34, 85, 94, 5, 3, 36, 72, 91, 84, 34, 87, 75, 53, 51, 20, 89, 51, 20]\n",
    "\n",
    "unique(l)"
   ]
  },
  {
   "cell_type": "markdown",
   "metadata": {},
   "source": [
    "6\\. Combination of functions\n",
    "\n",
    "Write two functions - one that returns the square of a number, and one that returns the cube. Now write a third function that returns the number raised to the 6th power using the two previous functions."
   ]
  },
  {
   "cell_type": "code",
   "execution_count": 29,
   "metadata": {},
   "outputs": [
    {
     "data": {
      "text/plain": [
       "64"
      ]
     },
     "execution_count": 29,
     "metadata": {},
     "output_type": "execute_result"
    }
   ],
   "source": [
    "def power2(x0):\n",
    "    return x0**2\n",
    "def power3 (x1):\n",
    "    return x1**3\n",
    "def power6 (x2):\n",
    "    return power2(power3(x2))\n",
    "power6(2)"
   ]
  },
  {
   "cell_type": "markdown",
   "metadata": {},
   "source": [
    "7\\. Cubes\n",
    "\n",
    "Create a list of the cubes of x for x in *[0, 10]* using:\n",
    "\n",
    "a) a for loop\n",
    "\n",
    "b) a list comprehension"
   ]
  },
  {
   "cell_type": "code",
   "execution_count": 31,
   "metadata": {},
   "outputs": [
    {
     "name": "stdout",
     "output_type": "stream",
     "text": [
      "[0, 1, 8, 27, 64, 125, 216, 343, 512, 729, 1000]\n",
      "[0, 1, 8, 27, 64, 125, 216, 343, 512, 729, 1000]\n"
     ]
    }
   ],
   "source": [
    "list0=[]\n",
    "for i0 in range(11):\n",
    "    list0.append(i0**3)\n",
    "print(list0)\n",
    "list1=[i1**3 for i1 in range(11)]\n",
    "print(list1)"
   ]
  },
  {
   "cell_type": "markdown",
   "metadata": {},
   "source": [
    "8\\. Nested list comprehension\n",
    "\n",
    "A Pythagorean triple is an integer solution to the Pythagorean theorem $a^2+b^2=c^2$. The first Pythagorean triple is (3,4,5). Find and put in a tuple all unique Pythagorean triples for the positive integers a, b and c less than 100."
   ]
  },
  {
   "cell_type": "code",
   "execution_count": 62,
   "metadata": {},
   "outputs": [
    {
     "name": "stdout",
     "output_type": "stream",
     "text": [
      "[(3, 4, 5), (4, 3, 5), (5, 12, 13), (6, 8, 10), (7, 24, 25), (8, 6, 10), (8, 15, 17), (9, 12, 15), (9, 40, 41), (10, 24, 26), (11, 60, 61), (12, 5, 13), (12, 9, 15), (12, 16, 20), (12, 35, 37), (13, 84, 85), (14, 48, 50), (15, 8, 17), (15, 20, 25), (15, 36, 39), (16, 12, 20), (16, 30, 34), (16, 63, 65), (18, 24, 30), (18, 80, 82), (20, 15, 25), (20, 21, 29), (20, 48, 52), (21, 20, 29), (21, 28, 35), (21, 72, 75), (24, 7, 25), (24, 10, 26), (24, 18, 30), (24, 32, 40), (24, 45, 51), (24, 70, 74), (25, 60, 65), (27, 36, 45), (28, 21, 35), (28, 45, 53), (30, 16, 34), (30, 40, 50), (30, 72, 78), (32, 24, 40), (32, 60, 68), (33, 44, 55), (33, 56, 65), (35, 12, 37), (35, 84, 91), (36, 15, 39), (36, 27, 45), (36, 48, 60), (36, 77, 85), (39, 52, 65), (39, 80, 89), (40, 9, 41), (40, 30, 50), (40, 42, 58), (40, 75, 85), (42, 40, 58), (42, 56, 70), (44, 33, 55), (45, 24, 51), (45, 28, 53), (45, 60, 75), (48, 14, 50), (48, 20, 52), (48, 36, 60), (48, 55, 73), (48, 64, 80), (51, 68, 85), (52, 39, 65), (54, 72, 90), (55, 48, 73), (56, 33, 65), (56, 42, 70), (57, 76, 95), (60, 11, 61), (60, 25, 65), (60, 32, 68), (60, 45, 75), (60, 63, 87), (63, 16, 65), (63, 60, 87), (64, 48, 80), (65, 72, 97), (68, 51, 85), (70, 24, 74), (72, 21, 75), (72, 30, 78), (72, 54, 90), (72, 65, 97), (75, 40, 85), (76, 57, 95), (77, 36, 85), (80, 18, 82), (80, 39, 89), (84, 13, 85), (84, 35, 91)]\n"
     ]
    }
   ],
   "source": [
    "print([(a,b,c) for a in range(1,100) for b in range(1,100) for c in range(1,100) if a**2+b**2==c**2])"
   ]
  },
  {
   "cell_type": "markdown",
   "metadata": {},
   "source": [
    "9\\. Normalization\n",
    "\n",
    "Write a function that takes a tuple of numbers and returns it with the entries normalized to one"
   ]
  },
  {
   "cell_type": "code",
   "execution_count": 6,
   "metadata": {},
   "outputs": [
    {
     "name": "stdout",
     "output_type": "stream",
     "text": [
      "[0.20948860135551448, 0.025261860751694388, 0.019716574245224893, 0.7455329636475662]\n"
     ]
    }
   ],
   "source": [
    "def norm(x):\n",
    "    return [i/sum(x) for i in x]\n",
    "\n",
    "print(norm([34, 4.1, 3.2, 121]))"
   ]
  },
  {
   "cell_type": "code",
   "execution_count": null,
   "metadata": {},
   "outputs": [],
   "source": []
  }
 ],
 "metadata": {
  "kernelspec": {
   "display_name": "Python 2",
   "language": "python",
   "name": "python2"
  },
  "language_info": {
   "codemirror_mode": {
    "name": "ipython",
    "version": 2
   },
   "file_extension": ".py",
   "mimetype": "text/x-python",
   "name": "python",
   "nbconvert_exporter": "python",
   "pygments_lexer": "ipython2",
   "version": "2.7.15rc1"
  }
 },
 "nbformat": 4,
 "nbformat_minor": 2
}
