{
 "cells": [
  {
   "cell_type": "markdown",
   "metadata": {},
   "source": [
    "1\\. Write the following as a list comprehension"
   ]
  },
  {
   "cell_type": "code",
   "execution_count": 2,
   "metadata": {},
   "outputs": [
    {
     "name": "stdout",
     "output_type": "stream",
     "text": [
      "[(0, 0), (0, 1), (0, 2), (0, 3), (1, 0), (1, 1), (1, 2), (1, 3), (2, 0), (2, 1), (2, 2), (2, 3)]\n",
      "[0, 4, 16]\n"
     ]
    }
   ],
   "source": [
    "# 1\n",
    "ans = []\n",
    "for i in range(3):\n",
    "    for j in range(4):\n",
    "        ans.append((i, j))\n",
    "print (ans)\n",
    "\n",
    "# 2\n",
    "ans = map(lambda x: x*x, filter(lambda x: x%2 == 0, range(5)))\n",
    "print (list(ans))\n",
    "\n"
   ]
  },
  {
   "cell_type": "code",
   "execution_count": 9,
   "metadata": {},
   "outputs": [
    {
     "name": "stdout",
     "output_type": "stream",
     "text": [
      "[(0, 0), (0, 1), (0, 2), (0, 3), (1, 0), (1, 1), (1, 2), (1, 3), (2, 0), (2, 1), (2, 2), (2, 3)]\n",
      "[0, 4, 16]\n"
     ]
    }
   ],
   "source": [
    "ans0 = [(i, j) for i in range(3) for j in range(4)]\n",
    "print (ans0)\n",
    "ans1 = [x*x for x in range(5) if x*x % 2 == 0]\n",
    "print (ans1)"
   ]
  },
  {
   "cell_type": "markdown",
   "metadata": {},
   "source": [
    "2\\. Convert the following function into a pure function with no global variables or side effects"
   ]
  },
  {
   "cell_type": "code",
   "execution_count": null,
   "metadata": {},
   "outputs": [],
   "source": [
    "x = 5\n",
    "def f(alist):\n",
    "    for i in range(x):\n",
    "         alist.append(i)\n",
    "    return alist\n",
    "\n",
    "alist = [1,2,3]\n",
    "ans = f(alist)\n",
    "print (ans)\n",
    "print (alist) # alist has been changed!"
   ]
  },
  {
   "cell_type": "code",
   "execution_count": 13,
   "metadata": {},
   "outputs": [
    {
     "name": "stdout",
     "output_type": "stream",
     "text": [
      "[1, 2, 3, 0, 1, 2, 3, 4, 5]\n",
      "[1, 2, 3]\n"
     ]
    }
   ],
   "source": [
    "def f(alist,x):\n",
    "    alist= alist+[i for i in range(x)]\n",
    "    return alist\n",
    "\n",
    "alist = [1,2,3]\n",
    "ans = f(alist,6)\n",
    "print (ans)\n",
    "print (alist) "
   ]
  },
  {
   "cell_type": "markdown",
   "metadata": {},
   "source": [
    "3\\. Write a `decorator` hello that makes every wrapped function print “Hello!”, i.e. something like:\n",
    "\n",
    "```python\n",
    "@hello\n",
    "def square(x):\n",
    "    return x*x\n",
    "```\n",
    "\n"
   ]
  },
  {
   "cell_type": "code",
   "execution_count": 39,
   "metadata": {},
   "outputs": [
    {
     "name": "stdout",
     "output_type": "stream",
     "text": [
      "Hello!\n",
      "4\n"
     ]
    }
   ],
   "source": [
    "def say_hello(f):\n",
    "    def wrapper(y):\n",
    "        print(\"Hello!\")\n",
    "        return f(y)\n",
    "    return wrapper\n",
    "\n",
    "@say_hello\n",
    "def square(x):\n",
    "    return x*x\n",
    "\n",
    "print(square(2))"
   ]
  },
  {
   "cell_type": "markdown",
   "metadata": {},
   "source": [
    "4\\. Write the factorial function so that it a) does and b) does not use recursion."
   ]
  },
  {
   "cell_type": "code",
   "execution_count": 44,
   "metadata": {},
   "outputs": [
    {
     "data": {
      "text/plain": [
       "24"
      ]
     },
     "execution_count": 44,
     "metadata": {},
     "output_type": "execute_result"
    }
   ],
   "source": [
    "def factorial0(n):\n",
    "    if n==0 or n==1:\n",
    "        return 1\n",
    "    else:\n",
    "        return n * factorial0(n-1)\n",
    "\n",
    "factorial0(4)"
   ]
  },
  {
   "cell_type": "code",
   "execution_count": 45,
   "metadata": {},
   "outputs": [
    {
     "data": {
      "text/plain": [
       "24"
      ]
     },
     "execution_count": 45,
     "metadata": {},
     "output_type": "execute_result"
    }
   ],
   "source": [
    "def factorial1(n):\n",
    "    x0 = 1\n",
    "    for x1 in range(1,n+1):\n",
    "        x0*=x1\n",
    "    return x0\n",
    "factorial1(4)"
   ]
  },
  {
   "cell_type": "markdown",
   "metadata": {},
   "source": [
    "5\\. Use HOFs (zip in particular) to compute the weight of a circle, a disk and a sphere, assuming different radii and different densities:\n",
    "\n",
    "```python\n",
    "densities = {\"Al\":[0.5,1,2],\"Fe\":[3,4,5],\"Pb\": [15,20,30]}\n",
    "radii = [1,2,3]\n",
    "```\n",
    "\n",
    "where the entries of the dictionary's values are the linear, superficial and volumetric densities of the materials respectively.\n",
    "\n",
    "In particular define a list of three lambda functions using a comprehension that computes the circumference, the area and the volume for a given radius.\n"
   ]
  },
  {
   "cell_type": "code",
   "execution_count": 285,
   "metadata": {},
   "outputs": [
    {
     "name": "stdout",
     "output_type": "stream",
     "text": [
      " \n",
      " \n",
      "Material :   Pb\n",
      " \n",
      "Radius value :  1\n",
      "Mass of circle :  94.25 a.u.\n",
      "Mass of disk   :  62.83 a.u.\n",
      "Mass of sphere :  125.66 a.u.\n",
      " \n",
      "Radius value :  2\n",
      "Mass of circle :  188.5 a.u.\n",
      "Mass of disk   :  251.33 a.u.\n",
      "Mass of sphere :  1005.31 a.u.\n",
      " \n",
      "Radius value :  3\n",
      "Mass of circle :  282.74 a.u.\n",
      "Mass of disk   :  565.49 a.u.\n",
      "Mass of sphere :  3392.92 a.u.\n",
      " \n",
      " \n",
      "Material :   Al\n",
      " \n",
      "Radius value :  1\n",
      "Mass of circle :  3.14 a.u.\n",
      "Mass of disk   :  3.14 a.u.\n",
      "Mass of sphere :  8.38 a.u.\n",
      " \n",
      "Radius value :  2\n",
      "Mass of circle :  6.28 a.u.\n",
      "Mass of disk   :  12.57 a.u.\n",
      "Mass of sphere :  67.02 a.u.\n",
      " \n",
      "Radius value :  3\n",
      "Mass of circle :  9.42 a.u.\n",
      "Mass of disk   :  28.27 a.u.\n",
      "Mass of sphere :  226.19 a.u.\n",
      " \n",
      " \n",
      "Material :   Fe\n",
      " \n",
      "Radius value :  1\n",
      "Mass of circle :  18.85 a.u.\n",
      "Mass of disk   :  12.57 a.u.\n",
      "Mass of sphere :  20.94 a.u.\n",
      " \n",
      "Radius value :  2\n",
      "Mass of circle :  37.7 a.u.\n",
      "Mass of disk   :  50.27 a.u.\n",
      "Mass of sphere :  167.55 a.u.\n",
      " \n",
      "Radius value :  3\n",
      "Mass of circle :  56.55 a.u.\n",
      "Mass of disk   :  113.1 a.u.\n",
      "Mass of sphere :  565.49 a.u.\n"
     ]
    }
   ],
   "source": [
    "from math import pi\n",
    "densities = {\"Al\":[0.5,1,2],\"Fe\":[3,4,5],\"Pb\": [15,20,30]}\n",
    "radii = [1,2,3]\n",
    "shape=[\"Mass of circle : \",\"Mass of disk   : \",\"Mass of sphere : \"]\n",
    "\n",
    "list0=[lambda r: 2*pi*r,lambda r: pi*r**2,lambda r: (4./3.)*pi*r**3]\n",
    "\n",
    "for name,dens in zip(densities.keys(),densities.values()):\n",
    "    print \" \"\n",
    "    print \" \"\n",
    "    print \"Material :  \",name\n",
    "    for rad in  range(len(radii)):\n",
    "        print \" \"\n",
    "        print \"Radius value : \", rad+1 \n",
    "        for d0,d1,density in  zip(shape,radii,dens):\n",
    "                mass = list0[d1-1](rad+1)*density\n",
    "                print d0, round(mass,2) , \"a.u.\""
   ]
  },
  {
   "cell_type": "markdown",
   "metadata": {},
   "source": [
    "6\\. Edit the class definition to add an instance attribute of is_hungry = True to the Dog class. Then add a method called eat() which changes the value of is_hungry to False when called. Figure out the best way to feed each dog and then output “My dogs are hungry.” if all are hungry or “My dogs are not hungry.” if all are not hungry. The final output should look like this:\n",
    "\n",
    "`I have 3 dogs. \n",
    "Tom is 6. \n",
    "Fletcher is 7. \n",
    "Larry is 9. \n",
    "And they're all mammals, of course. \n",
    "My dogs are not hungry.\n",
    "`\n",
    "\n",
    "```python\n",
    "# Parent class\n",
    "class Dog:\n",
    "\n",
    "    # Class attribute\n",
    "    species = 'mammal'\n",
    "\n",
    "    # Initializer / Instance attributes\n",
    "    def __init__(self, name, age):\n",
    "        self.name = name\n",
    "        self.age = age\n",
    "\n",
    "    # instance method\n",
    "    def description(self):\n",
    "        return \"{} is {} years old\".format(self.name, self.age)\n",
    "\n",
    "    # instance method\n",
    "    def speak(self, sound):\n",
    "        return \"{} says {}\".format(self.name, sound)\n",
    "\n",
    "# Child class (inherits from Dog class)\n",
    "class RussellTerrier(Dog):\n",
    "    def run(self, speed):\n",
    "        return \"{} runs {}\".format(self.name, speed)\n",
    "\n",
    "# Child class (inherits from Dog class)\n",
    "class Bulldog(Dog):\n",
    "    def run(self, speed):\n",
    "        return \"{} runs {}\".format(self.name, speed)"
   ]
  },
  {
   "cell_type": "code",
   "execution_count": 11,
   "metadata": {},
   "outputs": [
    {
     "name": "stdout",
     "output_type": "stream",
     "text": [
      "I have  3  dogs.\n",
      "Tom is 6. \n",
      "Fletcher is 7. \n",
      "Larry is 9. \n",
      "And they're all mammals, of course.\n",
      "My dogs are not hungry.\n"
     ]
    }
   ],
   "source": [
    "class Dog:\n",
    "\n",
    "    species = 'mammal'\n",
    "\n",
    "    def __init__(self, name, age):\n",
    "        self.name = name\n",
    "        self.age = age\n",
    "        self.is_hungry = True\n",
    "        \n",
    "    def eat(self):\n",
    "        self.is_hungry=False\n",
    "        \n",
    "    def description(self):\n",
    "        return \"{} is {}. \".format(self.name, self.age)\n",
    "\n",
    "    def speak(self, sound):\n",
    "        return \"{} says {}\".format(self.name, sound)\n",
    "\n",
    "class RussellTerrier(Dog):\n",
    "    def run(self, speed):\n",
    "        return \"{} runs {}\".format(self.name, speed)\n",
    "\n",
    "class Bulldog(Dog):\n",
    "    def run(self, speed):\n",
    "        return \"{} runs {}\".format(self.name, speed)\n",
    "    \n",
    "Dogs = [Dog('Tom',6),Dog('Fletcher',7),Dog('Larry',9)]\n",
    "\n",
    "print 'I have ',len(Dogs),' dogs.'\n",
    "\n",
    "for i in Dogs:\n",
    "    print(i.description())\n",
    "    i.eat()\n",
    "print \"And they're all {}s, of course.\".format(Dog.species)\n",
    "\n",
    "check = True\n",
    "for i in Dogs:\n",
    "    if(i.is_hungry):\n",
    "        print(\"Some dogs are hungry\")\n",
    "        check = False\n",
    "        break\n",
    "    else:\n",
    "        continue\n",
    "if(check):\n",
    "    print(\"My dogs are not hungry.\")"
   ]
  },
  {
   "cell_type": "code",
   "execution_count": null,
   "metadata": {},
   "outputs": [],
   "source": []
  }
 ],
 "metadata": {
  "kernelspec": {
   "display_name": "Python 2",
   "language": "python",
   "name": "python2"
  },
  "language_info": {
   "codemirror_mode": {
    "name": "ipython",
    "version": 2
   },
   "file_extension": ".py",
   "mimetype": "text/x-python",
   "name": "python",
   "nbconvert_exporter": "python",
   "pygments_lexer": "ipython2",
   "version": "2.7.15rc1"
  }
 },
 "nbformat": 4,
 "nbformat_minor": 2
}
